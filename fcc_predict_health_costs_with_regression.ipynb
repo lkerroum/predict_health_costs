{
  "cells": [
    {
      "cell_type": "code",
      "execution_count": null,
      "metadata": {
        "id": "1rRo8oNqZ-Rj"
      },
      "outputs": [],
      "source": [
        "# Import libraries. You may or may not use all of these.\n",
        "!pip install -q git+https://github.com/tensorflow/docs\n",
        "import matplotlib.pyplot as plt\n",
        "import numpy as np\n",
        "import pandas as pd\n",
        "\n",
        "try:\n",
        "  # %tensorflow_version only exists in Colab.\n",
        "  %tensorflow_version 2.x\n",
        "except Exception:\n",
        "  pass\n",
        "import tensorflow as tf\n",
        "\n",
        "from tensorflow import keras\n",
        "from keras import layers\n",
        "\n",
        "import tensorflow_docs as tfdocs\n",
        "import tensorflow_docs.plots\n",
        "import tensorflow_docs.modeling"
      ]
    },
    {
      "cell_type": "code",
      "execution_count": null,
      "metadata": {
        "id": "CiX2FI4gZtTt"
      },
      "outputs": [],
      "source": [
        "# Import data\n",
        "!wget https://cdn.freecodecamp.org/project-data/health-costs/insurance.csv\n",
        "df = pd.read_csv('insurance.csv')\n",
        "df.head()"
      ]
    },
    {
      "cell_type": "code",
      "source": [
        "# Data cleaning\n",
        "df.isna().sum()"
      ],
      "metadata": {
        "id": "jcIDCQR3D5cF"
      },
      "execution_count": null,
      "outputs": []
    },
    {
      "cell_type": "code",
      "source": [
        "# Transform Categorical data into numerical\n",
        "from sklearn.preprocessing import LabelEncoder\n",
        "label_encoder = LabelEncoder()\n",
        "\n",
        "# Transform the 'sex' column\n",
        "df['sex'] = label_encoder.fit_transform(df['sex'])\n",
        "\n",
        "# Transform the 'smoker' column\n",
        "df['smoker'] = label_encoder.fit_transform(df['smoker'])\n",
        "\n",
        "# Transform the 'region' column\n",
        "df['region'] = label_encoder.fit_transform(df['region'])\n",
        "print(df.head())"
      ],
      "metadata": {
        "id": "6EtmalebERGZ"
      },
      "execution_count": null,
      "outputs": []
    },
    {
      "cell_type": "code",
      "execution_count": null,
      "metadata": {
        "id": "LcopvQh3X-kX"
      },
      "outputs": [],
      "source": [
        "# Use 80% of the available data to train the model, the other 20% will be used to evaluate it\n",
        "train_df = df.sample(frac=0.8,random_state=0)\n",
        "test_df = df.drop(train_df.index)\n",
        "\n",
        "train_labels = train_df.pop('expenses')\n",
        "test_labels = test_df.pop('expenses')"
      ]
    },
    {
      "cell_type": "code",
      "source": [
        "# Normalize data and create the model\n",
        "\n",
        "normalizer = layers.Normalization(axis=-1)\n",
        "normalizer.adapt(train_df.to_numpy())\n",
        "\n",
        "def build_model():\n",
        "  model = keras.Sequential([\n",
        "       layers.Dense(64, activation='relu', input_shape=[len(train_df.keys())]),\n",
        "       layers.Dense(64, activation='relu'),\n",
        "       layers.Dense(1)\n",
        "       ])\n",
        "\n",
        "  model.compile(loss='mean_squared_error',\n",
        "                optimizer=keras.optimizers.Adam(learning_rate=0.001),\n",
        "                metrics=['mae', 'mse'])\n",
        "  return model\n",
        "\n",
        "model = build_model()"
      ],
      "metadata": {
        "id": "O1w_kOjDDdbp"
      },
      "execution_count": null,
      "outputs": []
    },
    {
      "cell_type": "code",
      "source": [
        "# Train model\n",
        "history = model.fit(train_df, train_labels, epochs=1000, validation_split=0.2)\n"
      ],
      "metadata": {
        "collapsed": true,
        "id": "Qw2b4DAoK9Dy"
      },
      "execution_count": null,
      "outputs": []
    },
    {
      "cell_type": "code",
      "execution_count": null,
      "metadata": {
        "id": "Xe7RXH3N3CWU"
      },
      "outputs": [],
      "source": [
        "# RUN THIS CELL TO TEST YOUR MODEL. DO NOT MODIFY CONTENTS.\n",
        "# Test model by checking how well the model generalizes using the test set.\n",
        "loss, mae, mse = model.evaluate(test_df, test_labels, verbose=2)\n",
        "\n",
        "print(\"Testing set Mean Abs Error: {:5.2f} expenses\".format(mae))\n",
        "\n",
        "if mae < 3500:\n",
        "  print(\"You passed the challenge. Great job!\")\n",
        "else:\n",
        "  print(\"The Mean Abs Error must be less than 3500. Keep trying.\")\n",
        "\n",
        "# Plot predictions.\n",
        "test_predictions = model.predict(test_df).flatten()\n",
        "\n",
        "a = plt.axes(aspect='equal')\n",
        "plt.scatter(test_labels, test_predictions)\n",
        "plt.xlabel('True values (expenses)')\n",
        "plt.ylabel('Predictions (expenses)')\n",
        "lims = [0, 50000]\n",
        "plt.xlim(lims)\n",
        "plt.ylim(lims)\n",
        "_ = plt.plot(lims,lims)\n"
      ]
    }
  ],
  "metadata": {
    "colab": {
      "name": "fcc_predict_health_costs_with_regression.ipynb",
      "private_outputs": true,
      "provenance": [],
      "toc_visible": true
    },
    "kernelspec": {
      "display_name": "Python 3",
      "name": "python3"
    }
  },
  "nbformat": 4,
  "nbformat_minor": 0
}